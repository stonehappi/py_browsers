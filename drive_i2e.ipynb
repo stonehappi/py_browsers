{
 "cells": [
  {
   "cell_type": "code",
   "execution_count": 1,
   "metadata": {},
   "outputs": [
    {
     "name": "stdout",
     "output_type": "stream",
     "text": [
      "<class 'pandas.core.frame.DataFrame'>\n",
      "RangeIndex: 145362 entries, 0 to 145361\n",
      "Data columns (total 7 columns):\n",
      " #   Column     Non-Null Count   Dtype \n",
      "---  ------     --------------   ----- \n",
      " 0   id         145362 non-null  int64 \n",
      " 1   file_path  145362 non-null  object\n",
      " 2   file_name  145362 non-null  object\n",
      " 3   mark       63856 non-null   object\n",
      " 4   target     81506 non-null   object\n",
      " 5   keyword    70564 non-null   object\n",
      " 6   path       81506 non-null   object\n",
      "dtypes: int64(1), object(6)\n",
      "memory usage: 7.8+ MB\n"
     ]
    }
   ],
   "source": [
    "import pandas as pd\n",
    "\n",
    "df = pd.read_csv('files/drive_h.csv')\n",
    "df.info()"
   ]
  },
  {
   "cell_type": "code",
   "execution_count": 6,
   "metadata": {},
   "outputs": [],
   "source": [
    "from run_drive_i import move_file\n",
    "# where target not null\n",
    "df_target = df[df['target'].notnull()]\n",
    "# df_target.info()\n",
    "for index, row in df_target.iterrows():\n",
    "    old_path = (\n",
    "        row[\"file_path\"]\n",
    "        .replace(\"\\\\\", \"/\")\n",
    "        .replace(\"D:/E-Library Docs/Backup Plush (H)\", \"data/h\")\n",
    "    )\n",
    "    new_path = row[\"path\"].replace(\"\\\\\", \"/\").replace(\"h_clean\", \"data/e\")\n",
    "    try:\n",
    "        # print(old_path)\n",
    "        # print(new_path)\n",
    "        # print('---'*10)\n",
    "        move_file(old_path, new_path)\n",
    "    except Exception as e:\n",
    "        print(f\"Error: {e}\")\n",
    "        continue"
   ]
  },
  {
   "cell_type": "code",
   "execution_count": 13,
   "metadata": {},
   "outputs": [
    {
     "ename": "ImportError",
     "evalue": "cannot import name 'delete_empty_folders' from 'main' (/Users/stone-wh/Wedding-Hub/ELib/py_browsers/main.py)",
     "output_type": "error",
     "traceback": [
      "\u001b[0;31m---------------------------------------------------------------------------\u001b[0m",
      "\u001b[0;31mImportError\u001b[0m                               Traceback (most recent call last)",
      "Cell \u001b[0;32mIn[13], line 1\u001b[0m\n\u001b[0;32m----> 1\u001b[0m \u001b[38;5;28;01mfrom\u001b[39;00m \u001b[38;5;21;01mmain\u001b[39;00m \u001b[38;5;28;01mimport\u001b[39;00m delete_empty_folders\n\u001b[1;32m      2\u001b[0m delete_empty_folders(\u001b[38;5;124m'\u001b[39m\u001b[38;5;124mdata/i\u001b[39m\u001b[38;5;124m'\u001b[39m)\n",
      "\u001b[0;31mImportError\u001b[0m: cannot import name 'delete_empty_folders' from 'main' (/Users/stone-wh/Wedding-Hub/ELib/py_browsers/main.py)"
     ]
    }
   ],
   "source": [
    "from run_drive_i import delete_empty_folders\n",
    "delete_empty_folders('data/i')"
   ]
  }
 ],
 "metadata": {
  "kernelspec": {
   "display_name": "Python 3",
   "language": "python",
   "name": "python3"
  },
  "language_info": {
   "codemirror_mode": {
    "name": "ipython",
    "version": 3
   },
   "file_extension": ".py",
   "mimetype": "text/x-python",
   "name": "python",
   "nbconvert_exporter": "python",
   "pygments_lexer": "ipython3",
   "version": "3.9.6"
  }
 },
 "nbformat": 4,
 "nbformat_minor": 2
}
