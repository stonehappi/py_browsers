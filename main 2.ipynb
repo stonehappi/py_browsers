{
 "cells": [
  {
   "cell_type": "code",
   "execution_count": 1,
   "metadata": {},
   "outputs": [
    {
     "name": "stdout",
     "output_type": "stream",
     "text": [
      "pandas version: 2.0.3\n"
     ]
    }
   ],
   "source": [
    "import pandas as pd\n",
    "print(f\"pandas version: {pd.__version__}\")\n",
    "from pathlib import Path\n",
    "import os"
   ]
  },
  {
   "cell_type": "code",
   "execution_count": 2,
   "metadata": {},
   "outputs": [
    {
     "name": "stdout",
     "output_type": "stream",
     "text": [
      "<class 'pandas.core.frame.DataFrame'>\n",
      "RangeIndex: 145362 entries, 0 to 145361\n",
      "Data columns (total 5 columns):\n",
      " #   Column       Non-Null Count   Dtype \n",
      "---  ------       --------------   ----- \n",
      " 0   file_path    145362 non-null  object\n",
      " 1   file_name    145362 non-null  object\n",
      " 2   category     78390 non-null   object\n",
      " 3   cat          70306 non-null   object\n",
      " 4   target_path  78390 non-null   object\n",
      "dtypes: object(5)\n",
      "memory usage: 5.5+ MB\n"
     ]
    }
   ],
   "source": [
    "d_h = pd.read_csv(\"drive_h.csv\")\n",
    "d_h = d_h.drop(\"id\", axis=1).drop(\"n\", axis=1)\n",
    "d_h.info()"
   ]
  },
  {
   "cell_type": "code",
   "execution_count": 9,
   "metadata": {},
   "outputs": [
    {
     "data": {
      "text/html": [
       "<div>\n",
       "<style scoped>\n",
       "    .dataframe tbody tr th:only-of-type {\n",
       "        vertical-align: middle;\n",
       "    }\n",
       "\n",
       "    .dataframe tbody tr th {\n",
       "        vertical-align: top;\n",
       "    }\n",
       "\n",
       "    .dataframe thead th {\n",
       "        text-align: right;\n",
       "    }\n",
       "</style>\n",
       "<table border=\"1\" class=\"dataframe\">\n",
       "  <thead>\n",
       "    <tr style=\"text-align: right;\">\n",
       "      <th></th>\n",
       "      <th>id</th>\n",
       "      <th>file_path</th>\n",
       "      <th>file_name</th>\n",
       "      <th>n</th>\n",
       "      <th>category</th>\n",
       "      <th>cat</th>\n",
       "      <th>target_path</th>\n",
       "    </tr>\n",
       "  </thead>\n",
       "  <tbody>\n",
       "    <tr>\n",
       "      <th>0</th>\n",
       "      <td>10468</td>\n",
       "      <td>D:Books\\B,00013-អត្តានុសាសនី.pdf</td>\n",
       "      <td>B,00013-អត្តានុសាសនី.pdf</td>\n",
       "      <td>NaN</td>\n",
       "      <td>Books</td>\n",
       "      <td>NaN</td>\n",
       "      <td>NaN</td>\n",
       "    </tr>\n",
       "    <tr>\n",
       "      <th>1</th>\n",
       "      <td>10469</td>\n",
       "      <td>D:Books\\B,00014-សាសនកថា.pdf</td>\n",
       "      <td>B,00014-សាសនកថា.pdf</td>\n",
       "      <td>NaN</td>\n",
       "      <td>Books</td>\n",
       "      <td>NaN</td>\n",
       "      <td>NaN</td>\n",
       "    </tr>\n",
       "    <tr>\n",
       "      <th>2</th>\n",
       "      <td>10470</td>\n",
       "      <td>D:Books\\B,00015-កាព្យសាស្រ្តនិងសុភាសិតបូរាណ.pdf</td>\n",
       "      <td>B,00015-កាព្យសាស្រ្តនិងសុភាសិតបូរាណ.pdf</td>\n",
       "      <td>NaN</td>\n",
       "      <td>Books</td>\n",
       "      <td>NaN</td>\n",
       "      <td>NaN</td>\n",
       "    </tr>\n",
       "    <tr>\n",
       "      <th>3</th>\n",
       "      <td>10874</td>\n",
       "      <td>D:Books\\B,00001.3-ល្ខោនព្រះរាជាទ្រព្យ - ១៩មករា...</td>\n",
       "      <td>B,000010005.tif</td>\n",
       "      <td>NaN</td>\n",
       "      <td>Books</td>\n",
       "      <td>NaN</td>\n",
       "      <td>NaN</td>\n",
       "    </tr>\n",
       "    <tr>\n",
       "      <th>4</th>\n",
       "      <td>10875</td>\n",
       "      <td>D:Books\\B,00001.3-ល្ខោនព្រះរាជាទ្រព្យ - ១៩មករា...</td>\n",
       "      <td>B,000010006.tif</td>\n",
       "      <td>NaN</td>\n",
       "      <td>Books</td>\n",
       "      <td>NaN</td>\n",
       "      <td>NaN</td>\n",
       "    </tr>\n",
       "  </tbody>\n",
       "</table>\n",
       "</div>"
      ],
      "text/plain": [
       "      id                                          file_path  \\\n",
       "0  10468                   D:Books\\B,00013-អត្តានុសាសនី.pdf   \n",
       "1  10469                        D:Books\\B,00014-សាសនកថា.pdf   \n",
       "2  10470    D:Books\\B,00015-កាព្យសាស្រ្តនិងសុភាសិតបូរាណ.pdf   \n",
       "3  10874  D:Books\\B,00001.3-ល្ខោនព្រះរាជាទ្រព្យ - ១៩មករា...   \n",
       "4  10875  D:Books\\B,00001.3-ល្ខោនព្រះរាជាទ្រព្យ - ១៩មករា...   \n",
       "\n",
       "                                 file_name    n category  cat  target_path  \n",
       "0                 B,00013-អត្តានុសាសនី.pdf  NaN    Books  NaN          NaN  \n",
       "1                      B,00014-សាសនកថា.pdf  NaN    Books  NaN          NaN  \n",
       "2  B,00015-កាព្យសាស្រ្តនិងសុភាសិតបូរាណ.pdf  NaN    Books  NaN          NaN  \n",
       "3                          B,000010005.tif  NaN    Books  NaN          NaN  \n",
       "4                          B,000010006.tif  NaN    Books  NaN          NaN  "
      ]
     },
     "execution_count": 9,
     "metadata": {},
     "output_type": "execute_result"
    }
   ],
   "source": [
    "drive_base = pd.read_csv(\"drive_base.csv\")\n",
    "drive_base.head()"
   ]
  },
  {
   "cell_type": "code",
   "execution_count": 3,
   "metadata": {},
   "outputs": [],
   "source": [
    "def create_drive_f(file: str) -> None:\n",
    "    folder = \"/\".join(file.split(\"/\")[:-1])\n",
    "    Path(folder).mkdir(parents=True, exist_ok=True)\n",
    "    open(file, \"w\")"
   ]
  },
  {
   "cell_type": "code",
   "execution_count": 4,
   "metadata": {},
   "outputs": [],
   "source": [
    "def move_file(file, new_file) -> None:\n",
    "    folder = \"/\".join(new_file.split(\"/\")[:-1])\n",
    "    Path(folder).mkdir(parents=True, exist_ok=True)\n",
    "    os.rename(file, new_file)"
   ]
  },
  {
   "cell_type": "code",
   "execution_count": 5,
   "metadata": {},
   "outputs": [],
   "source": [
    "for file in d_h[\"file_path\"]:\n",
    "    file = file.replace(\"\\\\\", \"/\").replace(\"D:\", \"data/base/\")\n",
    "    create_drive_f(file)"
   ]
  },
  {
   "cell_type": "code",
   "execution_count": 10,
   "metadata": {},
   "outputs": [],
   "source": [
    "for file in drive_base[\"file_path\"]:\n",
    "    file = file.replace(\"\\\\\", \"/\").replace(\"D:/E-Library Docs/Transcend (F)\", \"data/base\")\n",
    "    create_drive_f(file)"
   ]
  },
  {
   "cell_type": "code",
   "execution_count": 1,
   "metadata": {},
   "outputs": [
    {
     "ename": "NameError",
     "evalue": "name 'drive_f' is not defined",
     "output_type": "error",
     "traceback": [
      "\u001b[0;31m---------------------------------------------------------------------------\u001b[0m",
      "\u001b[0;31mNameError\u001b[0m                                 Traceback (most recent call last)",
      "Cell \u001b[0;32mIn[1], line 2\u001b[0m\n\u001b[1;32m      1\u001b[0m \u001b[38;5;66;03m# get unique mark\u001b[39;00m\n\u001b[0;32m----> 2\u001b[0m \u001b[38;5;28mprint\u001b[39m(\u001b[43mdrive_f\u001b[49m[\u001b[38;5;124m\"\u001b[39m\u001b[38;5;124mmark\u001b[39m\u001b[38;5;124m\"\u001b[39m]\u001b[38;5;241m.\u001b[39munique())\n\u001b[1;32m      3\u001b[0m \u001b[38;5;28mprint\u001b[39m(drive_f[\u001b[38;5;124m\"\u001b[39m\u001b[38;5;124mtarget\u001b[39m\u001b[38;5;124m\"\u001b[39m]\u001b[38;5;241m.\u001b[39munique())\n",
      "\u001b[0;31mNameError\u001b[0m: name 'drive_f' is not defined"
     ]
    }
   ],
   "source": [
    "# get unique mark\n",
    "print(drive_f[\"mark\"].unique())\n",
    "print(drive_f[\"target\"].unique())"
   ]
  },
  {
   "cell_type": "code",
   "execution_count": 3,
   "metadata": {},
   "outputs": [
    {
     "data": {
      "text/html": [
       "<div>\n",
       "<style scoped>\n",
       "    .dataframe tbody tr th:only-of-type {\n",
       "        vertical-align: middle;\n",
       "    }\n",
       "\n",
       "    .dataframe tbody tr th {\n",
       "        vertical-align: top;\n",
       "    }\n",
       "\n",
       "    .dataframe thead th {\n",
       "        text-align: right;\n",
       "    }\n",
       "</style>\n",
       "<table border=\"1\" class=\"dataframe\">\n",
       "  <thead>\n",
       "    <tr style=\"text-align: right;\">\n",
       "      <th></th>\n",
       "      <th>id</th>\n",
       "      <th>file_path</th>\n",
       "      <th>file_name</th>\n",
       "      <th>mark</th>\n",
       "      <th>target</th>\n",
       "    </tr>\n",
       "  </thead>\n",
       "  <tbody>\n",
       "    <tr>\n",
       "      <th>0</th>\n",
       "      <td>1</td>\n",
       "      <td>D:\\E-Library Docs\\Transcend (F)\\(1).jpg</td>\n",
       "      <td>(1).jpg</td>\n",
       "      <td>NaN</td>\n",
       "      <td>NaN</td>\n",
       "    </tr>\n",
       "    <tr>\n",
       "      <th>1</th>\n",
       "      <td>2</td>\n",
       "      <td>D:\\E-Library Docs\\Transcend (F)\\02 Track 2  រំ...</td>\n",
       "      <td>02 Track 2  រំដួលខេត្តសុរិន (ស៊ីន ស៊ីសាមុត).wav</td>\n",
       "      <td>NaN</td>\n",
       "      <td>NaN</td>\n",
       "    </tr>\n",
       "    <tr>\n",
       "      <th>2</th>\n",
       "      <td>3</td>\n",
       "      <td>D:\\E-Library Docs\\Transcend (F)\\05a84c757bad1a...</td>\n",
       "      <td>05a84c757bad1a43cd52f47a4a62b84f.jpg</td>\n",
       "      <td>NaN</td>\n",
       "      <td>NaN</td>\n",
       "    </tr>\n",
       "    <tr>\n",
       "      <th>3</th>\n",
       "      <td>4</td>\n",
       "      <td>D:\\E-Library Docs\\Transcend (F)\\07 Track 7 ជីវ...</td>\n",
       "      <td>07 Track 7 ជីវិតម្មករត្បូង (ស៊ីន_ ស៊ីសាមុត).wav</td>\n",
       "      <td>NaN</td>\n",
       "      <td>NaN</td>\n",
       "    </tr>\n",
       "    <tr>\n",
       "      <th>4</th>\n",
       "      <td>5</td>\n",
       "      <td>D:\\E-Library Docs\\Transcend (F)\\១៧ មេសា ១៩៧៥.jpg</td>\n",
       "      <td>១៧ មេសា ១៩៧៥.jpg</td>\n",
       "      <td>NaN</td>\n",
       "      <td>NaN</td>\n",
       "    </tr>\n",
       "    <tr>\n",
       "      <th>...</th>\n",
       "      <td>...</td>\n",
       "      <td>...</td>\n",
       "      <td>...</td>\n",
       "      <td>...</td>\n",
       "      <td>...</td>\n",
       "    </tr>\n",
       "    <tr>\n",
       "      <th>16693</th>\n",
       "      <td>8566</td>\n",
       "      <td>D:\\E-Library Docs\\Transcend (F)\\CD Audio NMK ម...</td>\n",
       "      <td>CD Audio NMK 97 - 6 - .mp3</td>\n",
       "      <td>NaN</td>\n",
       "      <td>សំបកថាស</td>\n",
       "    </tr>\n",
       "    <tr>\n",
       "      <th>16694</th>\n",
       "      <td>8567</td>\n",
       "      <td>D:\\E-Library Docs\\Transcend (F)\\CD Audio NMK ម...</td>\n",
       "      <td>CD Audio NMK 97 - 7 - .mp3</td>\n",
       "      <td>NaN</td>\n",
       "      <td>សំបកថាស</td>\n",
       "    </tr>\n",
       "    <tr>\n",
       "      <th>16695</th>\n",
       "      <td>8568</td>\n",
       "      <td>D:\\E-Library Docs\\Transcend (F)\\CD Audio NMK ម...</td>\n",
       "      <td>CD Audio NMK 97 - 8 - .mp3</td>\n",
       "      <td>NaN</td>\n",
       "      <td>សំបកថាស</td>\n",
       "    </tr>\n",
       "    <tr>\n",
       "      <th>16696</th>\n",
       "      <td>8569</td>\n",
       "      <td>D:\\E-Library Docs\\Transcend (F)\\CD Audio NMK ម...</td>\n",
       "      <td>CD Audio NMK 97 - 9 - .mp3</td>\n",
       "      <td>NaN</td>\n",
       "      <td>សំបកថាស</td>\n",
       "    </tr>\n",
       "    <tr>\n",
       "      <th>16697</th>\n",
       "      <td>8570</td>\n",
       "      <td>D:\\E-Library Docs\\Transcend (F)\\CD Audio NMK ម...</td>\n",
       "      <td>Icon</td>\n",
       "      <td>NaN</td>\n",
       "      <td>សំបកថាស</td>\n",
       "    </tr>\n",
       "  </tbody>\n",
       "</table>\n",
       "<p>16698 rows × 5 columns</p>\n",
       "</div>"
      ],
      "text/plain": [
       "         id                                          file_path  \\\n",
       "0         1            D:\\E-Library Docs\\Transcend (F)\\(1).jpg   \n",
       "1         2  D:\\E-Library Docs\\Transcend (F)\\02 Track 2  រំ...   \n",
       "2         3  D:\\E-Library Docs\\Transcend (F)\\05a84c757bad1a...   \n",
       "3         4  D:\\E-Library Docs\\Transcend (F)\\07 Track 7 ជីវ...   \n",
       "4         5   D:\\E-Library Docs\\Transcend (F)\\១៧ មេសា ១៩៧៥.jpg   \n",
       "...     ...                                                ...   \n",
       "16693  8566  D:\\E-Library Docs\\Transcend (F)\\CD Audio NMK ម...   \n",
       "16694  8567  D:\\E-Library Docs\\Transcend (F)\\CD Audio NMK ម...   \n",
       "16695  8568  D:\\E-Library Docs\\Transcend (F)\\CD Audio NMK ម...   \n",
       "16696  8569  D:\\E-Library Docs\\Transcend (F)\\CD Audio NMK ម...   \n",
       "16697  8570  D:\\E-Library Docs\\Transcend (F)\\CD Audio NMK ម...   \n",
       "\n",
       "                                             file_name mark   target  \n",
       "0                                              (1).jpg  NaN      NaN  \n",
       "1      02 Track 2  រំដួលខេត្តសុរិន (ស៊ីន ស៊ីសាមុត).wav  NaN      NaN  \n",
       "2                 05a84c757bad1a43cd52f47a4a62b84f.jpg  NaN      NaN  \n",
       "3      07 Track 7 ជីវិតម្មករត្បូង (ស៊ីន_ ស៊ីសាមុត).wav  NaN      NaN  \n",
       "4                                     ១៧ មេសា ១៩៧៥.jpg  NaN      NaN  \n",
       "...                                                ...  ...      ...  \n",
       "16693                       CD Audio NMK 97 - 6 - .mp3  NaN  សំបកថាស  \n",
       "16694                       CD Audio NMK 97 - 7 - .mp3  NaN  សំបកថាស  \n",
       "16695                       CD Audio NMK 97 - 8 - .mp3  NaN  សំបកថាស  \n",
       "16696                       CD Audio NMK 97 - 9 - .mp3  NaN  សំបកថាស  \n",
       "16697                                            Icon  NaN  សំបកថាស  \n",
       "\n",
       "[16698 rows x 5 columns]"
      ]
     },
     "execution_count": 3,
     "metadata": {},
     "output_type": "execute_result"
    }
   ],
   "source": [
    "# here drive_f not Deleted\n",
    "drive_f_not_deleted = drive_f[drive_f[\"mark\"] != \"Deleted\"]\n",
    "drive_f"
   ]
  },
  {
   "cell_type": "code",
   "execution_count": 4,
   "metadata": {},
   "outputs": [],
   "source": [
    "category_drive_f = ['music', 'video', 'image', 'other']"
   ]
  },
  {
   "cell_type": "code",
   "execution_count": 45,
   "metadata": {},
   "outputs": [],
   "source": [
    "mp3 = drive_f[\n",
    "    drive_f[\"file_path\"].str.endswith(\".mp3\")\n",
    "]\n",
    "mp3 = mp3[mp3[\"file_path\"].str.contains(\"cambodian rock from marcថតចេញពីថាស\")]\n",
    "for row in mp3[\"file_path\"]:\n",
    "    # print(row)\n",
    "    file = row.replace(\"\\\\\", \"/\").replace(\"D:/E-Library Docs/Transcend (F)\", \"data/f\")\n",
    "    filename = file.split(\"/\")[-1]\n",
    "    new_file = f\"data/f_clean/music/cambodian rock/{filename}\"\n",
    "    move_file(file, new_file)"
   ]
  },
  {
   "cell_type": "code",
   "execution_count": 63,
   "metadata": {},
   "outputs": [],
   "source": [
    "d = drive_f[drive_f[\"file_path\"].str.contains(\"ឯកសារសំបកថាសតាមរយៈប្រុសធំ\")]\n",
    "for old_file in d[\"file_path\"]:\n",
    "    new_file = old_file.replace(\"\\\\\", \"/\");\n",
    "    filename = new_file.split(\"/\")[-1]\n",
    "    new_file = f\"f_clean/សំបកថាស/{filename}\"\n",
    "    # print(old_file, '-', new_file)\n",
    "    file = old_file.replace(\"\\\\\", \"/\").replace(\n",
    "        \"D:/E-Library Docs/Transcend (F)\", \"data/f\"\n",
    "    )\n",
    "    move_file(file, new_file)"
   ]
  }
 ],
 "metadata": {
  "kernelspec": {
   "display_name": "Python 3",
   "language": "python",
   "name": "python3"
  },
  "language_info": {
   "codemirror_mode": {
    "name": "ipython",
    "version": 3
   },
   "file_extension": ".py",
   "mimetype": "text/x-python",
   "name": "python",
   "nbconvert_exporter": "python",
   "pygments_lexer": "ipython3",
   "version": "3.9.6"
  }
 },
 "nbformat": 4,
 "nbformat_minor": 2
}
